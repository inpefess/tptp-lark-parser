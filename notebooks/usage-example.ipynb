{
 "cells": [
  {
   "cell_type": "code",
   "execution_count": 1,
   "id": "babdadc2-f503-4226-a11c-804f7507a908",
   "metadata": {},
   "outputs": [],
   "source": [
    "# if we want to parse an ``include`` statements\n",
    "# we should specify the location of TPTP folder\n",
    "# (by default it's the work directory)\n",
    "# here we use a ``TPTP-mock`` folder from the package resources\n",
    "import sys\n",
    "import os\n",
    "if sys.version_info.major == 3 and sys.version_info.minor >= 9:\n",
    "    from importlib.resources import files\n",
    "else:\n",
    "    from importlib_resources import files\n",
    "    \n",
    "tptp_folder = files(\"tptp_lark_parser\").joinpath(\n",
    "    os.path.join(\"resources\", \"TPTP-mock\")\n",
    ")"
   ]
  },
  {
   "cell_type": "code",
   "execution_count": 2,
   "id": "ea0e539a",
   "metadata": {
    "collapsed": false,
    "jupyter": {
     "outputs_hidden": false
    }
   },
   "outputs": [],
   "source": [
    "# to parse, we first need to create a parser instance\n",
    "# it uses a Lark version of the TPTP BNF grammar\n",
    "from tptp_lark_parser.tptp_parser import TPTPParser\n",
    "\n",
    "tptp_parser = TPTPParser(\n",
    "    tptp_folder=tptp_folder,\n",
    "    # if parser is not extendable\n",
    "    # it will fail when encountering symbols not from TPTP\n",
    "    extendable=True\n",
    ")"
   ]
  },
  {
   "cell_type": "code",
   "execution_count": 3,
   "id": "c923d254",
   "metadata": {
    "collapsed": false,
    "jupyter": {
     "outputs_hidden": false
    }
   },
   "outputs": [
    {
     "data": {
      "text/plain": [
       "(Literal(negated=True, atom=Predicate(index=298, arguments=(Variable(index=1009), Variable(index=1007)))),\n",
       " Literal(negated=False, atom=Predicate(index=300, arguments=(Variable(index=1007), Variable(index=1009)))))"
      ]
     },
     "execution_count": 3,
     "metadata": {},
     "output_type": "execute_result"
    }
   ],
   "source": [
    "# we can parse a single formula\n",
    "parsed_text = tptp_parser.parse(\"cnf(test, axiom, ~ p(Y, X) | q(X, Y)).\")\n",
    "parsed_text[0].literals"
   ]
  },
  {
   "cell_type": "code",
   "execution_count": 4,
   "id": "4183cb3c",
   "metadata": {
    "collapsed": false,
    "jupyter": {
     "outputs_hidden": false
    }
   },
   "outputs": [
    {
     "name": "stdout",
     "output_type": "stream",
     "text": [
      "()\n",
      "(Literal(negated=True, atom=Predicate(index=0, arguments=())),)\n"
     ]
    }
   ],
   "source": [
    "# or several formulae\n",
    "parsed_text = tptp_parser.parse(\"\"\"\n",
    "cnf(test, axiom, $false).\n",
    "cnf(test, axiom, ~$false).\n",
    "\"\"\")\n",
    "for clause in parsed_text:\n",
    "    print(clause.literals)"
   ]
  },
  {
   "cell_type": "code",
   "execution_count": 5,
   "id": "8a908e0f",
   "metadata": {
    "collapsed": false,
    "jupyter": {
     "outputs_hidden": false
    }
   },
   "outputs": [
    {
     "name": "stdout",
     "output_type": "stream",
     "text": [
      "()\n",
      "(Literal(negated=False, atom=Predicate(index=1, arguments=(Function(index=3362, arguments=()), Function(index=3363, arguments=())))),)\n",
      "(Literal(negated=True, atom=Predicate(index=1, arguments=(Function(index=3362, arguments=()), Function(index=3364, arguments=())))),)\n"
     ]
    }
   ],
   "source": [
    "parsed_text = tptp_parser.parse(\"\"\"\n",
    "include('Axioms/TST001-0.ax').\n",
    "cnf(test, axiom, $false).\n",
    "\"\"\")\n",
    "\n",
    "for clause in parsed_text:\n",
    "    print(clause.literals)"
   ]
  }
 ],
 "metadata": {
  "kernelspec": {
   "display_name": "Python 3 (ipykernel)",
   "language": "python",
   "name": "python3"
  },
  "language_info": {
   "codemirror_mode": {
    "name": "ipython",
    "version": 3
   },
   "file_extension": ".py",
   "mimetype": "text/x-python",
   "name": "python",
   "nbconvert_exporter": "python",
   "pygments_lexer": "ipython3",
   "version": "3.10.4"
  },
  "name": "example.ipynb"
 },
 "nbformat": 4,
 "nbformat_minor": 5
}
