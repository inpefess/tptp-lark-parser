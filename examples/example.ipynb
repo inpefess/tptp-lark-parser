{
 "cells": [
  {
   "cell_type": "code",
   "execution_count": 1,
   "id": "347358ec",
   "metadata": {
    "collapsed": false
   },
   "outputs": [],
   "source": [
    "# first, we need to create a parser instance\n",
    "# it uses a Lark version of the TPTP BNF grammar\n",
    "from tptp_lark_parser.tptp_parser import TPTPParser\n",
    "\n",
    "tptp_parser = TPTPParser()"
   ]
  },
  {
   "cell_type": "code",
   "execution_count": 2,
   "id": "e1e63ce9",
   "metadata": {
    "collapsed": false
   },
   "outputs": [
    {
     "data": {
      "text/plain": [
       "(cnf(test, axiom, $false).,)"
      ]
     },
     "execution_count": 2,
     "metadata": {},
     "output_type": "execute_result"
    }
   ],
   "source": [
    "# we can parse a single formula\n",
    "tptp_parser.parse(\"cnf(test, axiom, $false).\", \"\")"
   ]
  },
  {
   "cell_type": "code",
   "execution_count": 3,
   "id": "88d263f3",
   "metadata": {
    "collapsed": false
   },
   "outputs": [
    {
     "data": {
      "text/plain": [
       "(cnf(test, axiom, $false)., cnf(test, axiom, $false).)"
      ]
     },
     "execution_count": 3,
     "metadata": {},
     "output_type": "execute_result"
    }
   ],
   "source": [
    "# or several formulae\n",
    "tptp_parser.parse(\"\"\"\n",
    "cnf(test, axiom, $false).\n",
    "cnf(test, axiom, ~$false).\n",
    "\"\"\", \"\")"
   ]
  },
  {
   "cell_type": "code",
   "execution_count": 4,
   "id": "da901123",
   "metadata": {
    "collapsed": false
   },
   "outputs": [
    {
     "data": {
      "text/plain": [
       "(cnf(test, axiom, $false).,\n",
       " cnf(test_axiom, axiom, test_constant = test_constant_2).,\n",
       " cnf(test_axiom_2, axiom, ~test_constant = 0).)"
      ]
     },
     "execution_count": 4,
     "metadata": {},
     "output_type": "execute_result"
    }
   ],
   "source": [
    "# if we want to parse an ``include`` statements\n",
    "# we should specify the location of TPTP folder\n",
    "# (by default it's the work directory)\n",
    "tptp_parser.parse(\"\"\"\n",
    "include('Axioms/TST001-0.ax').\n",
    "cnf(test, axiom, $false).\n",
    "\"\"\", \"../tptp_lark_parser/resources/TPTP-mock\")"
   ]
  },
  {
   "cell_type": "code",
   "execution_count": null,
   "id": "4519ef65",
   "metadata": {
    "collapsed": false
   },
   "outputs": [],
   "source": []
  }
 ],
 "metadata": {
  "kernelspec": {
   "argv": [
    "python",
    "-m",
    "ipykernel_launcher",
    "-f",
    "{connection_file}"
   ],
   "display_name": "Python 3 (ipykernel)",
   "env": null,
   "interrupt_mode": "signal",
   "language": "python",
   "metadata": {
    "debugger": true
   },
   "name": "python3"
  },
  "name": "example.ipynb"
 },
 "nbformat": 4,
 "nbformat_minor": 5
}
