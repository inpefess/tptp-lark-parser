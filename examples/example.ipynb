{
 "cells": [
  {
   "cell_type": "code",
   "execution_count": 1,
   "id": "ea0e539a",
   "metadata": {
    "collapsed": false
   },
   "outputs": [],
   "source": [
    "# first, we need to create a parser instance\n",
    "# it uses a Lark version of the TPTP BNF grammar\n",
    "from tptp_lark_parser.tptp_parser import TPTPParser\n",
    "\n",
    "tptp_parser = TPTPParser()"
   ]
  },
  {
   "cell_type": "code",
   "execution_count": 2,
   "id": "c923d254",
   "metadata": {
    "collapsed": false
   },
   "outputs": [
    {
     "data": {
      "text/plain": [
       "(Literal(negated=True, atom=Predicate(name='p', arguments=(Variable(name='Y'), Variable(name='X')))),\n",
       " Literal(negated=False, atom=Predicate(name='q', arguments=(Variable(name='X'), Variable(name='Y')))))"
      ]
     },
     "execution_count": 2,
     "metadata": {},
     "output_type": "execute_result"
    }
   ],
   "source": [
    "# we can parse a single formula\n",
    "parsed_text = tptp_parser.parse(\"cnf(test, axiom, ~ p(Y, X) | q(X, Y)).\")\n",
    "parsed_text[0].literals"
   ]
  },
  {
   "cell_type": "code",
   "execution_count": 3,
   "id": "4183cb3c",
   "metadata": {
    "collapsed": false
   },
   "outputs": [
    {
     "name": "stdout",
     "output_type": "stream",
     "text": [
      "()\n",
      "(Literal(negated=True, atom=Predicate(name='$false', arguments=())),)\n"
     ]
    }
   ],
   "source": [
    "# or several formulae\n",
    "parsed_text = tptp_parser.parse(\"\"\"\n",
    "cnf(test, axiom, $false).\n",
    "cnf(test, axiom, ~$false).\n",
    "\"\"\")\n",
    "for clause in parsed_text:\n",
    "    print(clause.literals)"
   ]
  },
  {
   "cell_type": "code",
   "execution_count": 4,
   "id": "8a908e0f",
   "metadata": {
    "collapsed": false
   },
   "outputs": [
    {
     "name": "stdout",
     "output_type": "stream",
     "text": [
      "()\n",
      "(Literal(negated=False, atom=Predicate(name='=', arguments=(Function(name='test_constant', arguments=()), Function(name='test_constant_2', arguments=())))),)\n",
      "(Literal(negated=True, atom=Predicate(name='=', arguments=(Function(name='test_constant', arguments=()), Function(name='0', arguments=())))),)\n"
     ]
    }
   ],
   "source": [
    "# if we want to parse an ``include`` statements\n",
    "# we should specify the location of TPTP folder\n",
    "# (by default it's the work directory)\n",
    "# here we use a ``TPTP-mock`` folder from the package's unit-tests\n",
    "import sys\n",
    "import os\n",
    "if sys.version_info.major == 3 and sys.version_info.minor >= 9:\n",
    "    from importlib.resources import files\n",
    "else:\n",
    "    from importlib_resources import files\n",
    "    \n",
    "tptp_folder = files(\n",
    "    \"tptp_lark_parser\").joinpath(os.path.join(\"resources\", \"TPTP-mock\"))\n",
    "parsed_text = tptp_parser.parse(\"\"\"\n",
    "include('Axioms/TST001-0.ax').\n",
    "cnf(test, axiom, $false).\n",
    "\"\"\", tptp_folder)\n",
    "\n",
    "for clause in parsed_text:\n",
    "    print(clause.literals)"
   ]
  },
  {
   "cell_type": "code",
   "execution_count": null,
   "id": "21552c52",
   "metadata": {
    "collapsed": false
   },
   "outputs": [],
   "source": []
  }
 ],
 "metadata": {
  "kernelspec": {
   "argv": [
    "python",
    "-m",
    "ipykernel_launcher",
    "-f",
    "{connection_file}"
   ],
   "display_name": "Python 3 (ipykernel)",
   "env": null,
   "interrupt_mode": "signal",
   "language": "python",
   "metadata": {
    "debugger": true
   },
   "name": "python3"
  },
  "name": "example.ipynb"
 },
 "nbformat": 4,
 "nbformat_minor": 5
}
